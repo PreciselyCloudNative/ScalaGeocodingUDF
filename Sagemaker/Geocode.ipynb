{
 "cells": [
  {
   "cell_type": "code",
   "execution_count": 1,
   "metadata": {
    "collapsed": true,
    "jupyter": {
     "outputs_hidden": true,
     "source_hidden": true
    }
   },
   "outputs": [
    {
     "name": "stdout",
     "output_type": "stream",
     "text": [
      "Successfully read emr cluster(j-1P3CAFFX0W7OJ) details\n",
      "Initiating EMR connection..\n",
      "Starting Spark application\n"
     ]
    },
    {
     "data": {
      "text/html": [
       "<table>\n",
       "<tr><th>ID</th><th>YARN Application ID</th><th>Kind</th><th>State</th><th>Spark UI</th><th>Driver log</th><th>User</th><th>Current session?</th></tr><tr><td>11</td><td>application_1654626007541_0012</td><td>pyspark</td><td>idle</td><td><a target=\"_blank\" href=\"http://ip-172-31-109-115.ec2.internal:20888/proxy/application_1654626007541_0012/\">Link</a></td><td><a target=\"_blank\" href=\"http://ip-172-31-98-229.ec2.internal:8042/node/containerlogs/container_1654626007541_0012_01_000001/livy\">Link</a></td><td>None</td><td>✔</td></tr></table>"
      ],
      "text/plain": [
       "<IPython.core.display.HTML object>"
      ]
     },
     "metadata": {},
     "output_type": "display_data"
    },
    {
     "data": {
      "application/vnd.jupyter.widget-view+json": {
       "model_id": "",
       "version_major": 2,
       "version_minor": 0
      },
      "text/plain": [
       "FloatProgress(value=0.0, bar_style='info', description='Progress:', layout=Layout(height='25px', width='50%'),…"
      ]
     },
     "metadata": {},
     "output_type": "display_data"
    },
    {
     "name": "stdout",
     "output_type": "stream",
     "text": [
      "SparkSession available as 'spark'.\n",
      "{\"namespace\": \"sagemaker-analytics\", \"cluster_id\": \"j-1P3CAFFX0W7OJ\", \"error_message\": null, \"success\": true, \"service\": \"emr\", \"operation\": \"connect\"}\n"
     ]
    }
   ],
   "source": [
    "%load_ext sagemaker_studio_analytics_extension.magics\n",
    "%sm_analytics emr connect --cluster-id j-1P3CAFFX0W7OJ --auth-type None  "
   ]
  },
  {
   "cell_type": "markdown",
   "metadata": {},
   "source": [
    "<h1>Configuration</h1>"
   ]
  },
  {
   "cell_type": "code",
   "execution_count": 8,
   "metadata": {
    "collapsed": true,
    "jupyter": {
     "outputs_hidden": true,
     "source_hidden": true
    }
   },
   "outputs": [
    {
     "name": "stdout",
     "output_type": "stream",
     "text": [
      "Starting Spark application\n"
     ]
    },
    {
     "data": {
      "text/html": [
       "<table>\n",
       "<tr><th>ID</th><th>YARN Application ID</th><th>Kind</th><th>State</th><th>Spark UI</th><th>Driver log</th><th>User</th><th>Current session?</th></tr><tr><td>12</td><td>application_1654626007541_0013</td><td>pyspark</td><td>idle</td><td><a target=\"_blank\" href=\"http://ip-172-31-109-115.ec2.internal:20888/proxy/application_1654626007541_0013/\">Link</a></td><td><a target=\"_blank\" href=\"http://ip-172-31-98-229.ec2.internal:8042/node/containerlogs/container_1654626007541_0013_01_000001/livy\">Link</a></td><td>None</td><td>✔</td></tr></table>"
      ],
      "text/plain": [
       "<IPython.core.display.HTML object>"
      ]
     },
     "metadata": {},
     "output_type": "display_data"
    },
    {
     "data": {
      "application/vnd.jupyter.widget-view+json": {
       "model_id": "",
       "version_major": 2,
       "version_minor": 0
      },
      "text/plain": [
       "FloatProgress(value=0.0, bar_style='info', description='Progress:', layout=Layout(height='25px', width='50%'),…"
      ]
     },
     "metadata": {},
     "output_type": "display_data"
    },
    {
     "name": "stdout",
     "output_type": "stream",
     "text": [
      "SparkSession available as 'spark'.\n"
     ]
    },
    {
     "data": {
      "text/html": [
       "Current session configs: <tt>{'conf': {'spark.sql.legacy.allowUntypedScalaUDF': 'true'}, 'jars': ['s3://sales-tim-mckenzie/com.pb.software/spectrum-bigdata/5.1.0.8/spectrum-bigdata-addressing-5.1.0.8/spark2/sdk/lib/spectrum-bigdata-addressing-sdk-spark2_2.12-5.1.0.8.jar', 's3://sales-tim-mckenzie/com.pb.software/spectrum-bigdata/5.1.0.8/custom/ScalaGeocodingUDF-scala_geocode_udf_1.0-all.jar'], 'kind': 'pyspark'}</tt><br>"
      ],
      "text/plain": [
       "<IPython.core.display.HTML object>"
      ]
     },
     "metadata": {},
     "output_type": "display_data"
    },
    {
     "data": {
      "text/html": [
       "<table>\n",
       "<tr><th>ID</th><th>YARN Application ID</th><th>Kind</th><th>State</th><th>Spark UI</th><th>Driver log</th><th>User</th><th>Current session?</th></tr><tr><td>12</td><td>application_1654626007541_0013</td><td>pyspark</td><td>idle</td><td><a target=\"_blank\" href=\"http://ip-172-31-109-115.ec2.internal:20888/proxy/application_1654626007541_0013/\">Link</a></td><td><a target=\"_blank\" href=\"http://ip-172-31-98-229.ec2.internal:8042/node/containerlogs/container_1654626007541_0013_01_000001/livy\">Link</a></td><td>None</td><td>✔</td></tr></table>"
      ],
      "text/plain": [
       "<IPython.core.display.HTML object>"
      ]
     },
     "metadata": {},
     "output_type": "display_data"
    }
   ],
   "source": [
    "%%configure -f\n",
    "{ \"conf\": {\n",
    "     \"spark.sql.legacy.allowUntypedScalaUDF\": \"true\"\n",
    "     },\n",
    "  \"jars\": [\n",
    "        \"s3://sales-tim-mckenzie/com.pb.software/spectrum-bigdata/5.1.0.8/spectrum-bigdata-addressing-5.1.0.8/spark2/sdk/lib/spectrum-bigdata-addressing-sdk-spark2_2.12-5.1.0.8.jar\",\n",
    "        \"s3://sales-tim-mckenzie/com.pb.software/spectrum-bigdata/5.1.0.8/custom/ScalaGeocodingUDF-scala_geocode_udf_1.0-all.jar\"\n",
    "      \n",
    "    ]   \n",
    "}"
   ]
  },
  {
   "cell_type": "code",
   "execution_count": 9,
   "metadata": {
    "collapsed": true,
    "jupyter": {
     "outputs_hidden": true,
     "source_hidden": true
    }
   },
   "outputs": [
    {
     "data": {
      "application/vnd.jupyter.widget-view+json": {
       "model_id": "",
       "version_major": 2,
       "version_minor": 0
      },
      "text/plain": [
       "FloatProgress(value=0.0, bar_style='info', description='Progress:', layout=Layout(height='25px', width='50%'),…"
      ]
     },
     "metadata": {},
     "output_type": "display_data"
    },
    {
     "name": "stdout",
     "output_type": "stream",
     "text": [
      "/mnt/yarn/usercache/livy/appcache/application_1654626007541_0013/container_1654626007541_0013_01_000001/pyspark.zip/pyspark/sql/context.py:79: FutureWarning: Deprecated in 3.0.0. Use SparkSession.builder.getOrCreate() instead."
     ]
    }
   ],
   "source": [
    "from pyspark.sql import *\n",
    "from pyspark.sql.functions import col\n",
    "import os\n",
    "import time\n",
    "sqlContext = SQLContext(spark.sparkContext)\n",
    "\n",
    "dataLocationLocal = [\"s3://sales-tim-mckenzie/com.precisely.data/reference-data/2022.4/KLD042022.spd\",\"s3://sales-tim-mckenzie/com.precisely.data/reference-data/2022.4/KGD042022.spd\"]\n",
    "\n",
    "geocodingRootDBFS = \"s3://sales-tim-mckenzie/com.pb.software/spectrum-bigdata/5.1.0.8/spectrum-bigdata-addressing-5.1.0.8/\"\n",
    "resourcesLocationDBFS = geocodingRootDBFS + \"resources/\"\n",
    "resourcesLocationLocal = resourcesLocationDBFS\n",
    "\n",
    "InputFile_Loaction = \"s3://sales-tim-mckenzie/Customer/ClearCapital/2022/implementation/amv_test_file_match-05_25_2022.csv\"\n",
    "\n",
    "\n",
    "\n",
    "outputFields = [\"score\",\n",
    "           \"explanation.source['label'] as label\",\n",
    "           \"location.feature.geometry.coordinates.x as LON\",\n",
    "           \"location.feature.geometry.coordinates.y as LAT\",\n",
    "           \"address.formattedAddress as FullAddress\",\n",
    "           \"address.formattedStreetAddress as StreetAddress\",\n",
    "           \"address.formattedLocationAddress as LocationAddress\",\n",
    "           \"address.placeName as PlaceName\",\n",
    "           \"address.addressNumber as AddressNumber\",\n",
    "           \"address.street as Street\",\n",
    "           \"address.unit as Unit\",\n",
    "           \"address.unitType as UnitType\",\n",
    "           \"address.admin1.longName as State\",\n",
    "           \"address.city.longName as City\",\n",
    "           \"address.postalCode as PostalCode\",\n",
    "           \"address.postalCodeExt as PostalCodeExt\",\n",
    "           \"address.country.name as CountryName\",\n",
    "           \"address.country.isoAlpha3Code as Country\",\n",
    "           \"customFields['PRECISION_CODE'] as PrecisionCode\",\n",
    "           \"customFields['MATCH_TYPE'] as MatchType\",\n",
    "           \"customFields['LOC_CODE'] as LocationCode\",\n",
    "           \"customFields['MATCH_CODE'] as MatchCode\",\n",
    "           \"customFields['PB_KEY'] as PBKEY\",\n",
    "           \"customFields['DPV_CONFIRM'] as DpvConfirm\",\n",
    "           \"customFields['Geocode_Pass'] as GeocodePass\"]\n",
    "\n"
   ]
  },
  {
   "cell_type": "markdown",
   "metadata": {},
   "source": [
    "<h1>Input File</h1>"
   ]
  },
  {
   "cell_type": "code",
   "execution_count": 10,
   "metadata": {
    "jupyter": {
     "source_hidden": true
    }
   },
   "outputs": [
    {
     "data": {
      "application/vnd.jupyter.widget-view+json": {
       "model_id": "",
       "version_major": 2,
       "version_minor": 0
      },
      "text/plain": [
       "FloatProgress(value=0.0, bar_style='info', description='Progress:', layout=Layout(height='25px', width='50%'),…"
      ]
     },
     "metadata": {},
     "output_type": "display_data"
    },
    {
     "name": "stdout",
     "output_type": "stream",
     "text": [
      "+---------+--------------------+--------------+----------------+------------+--------------+-----------+-----------+-----------+---------+--------------------+--------------------+---------------------+---------------+-------------------+---------------+----------+--------------+-------------+----------------+----------------+-------------------+-----------------+-------------+-------------------+---------------+------------------+---------------+------------+-----------+\n",
      "|input__c0|      input_address1|input_address2|     input_city3|input_state4|input_postcode|input_score|input_label|  input_LON|input_LAT|   input_FullAddress| input_StreetAddress|input_LocationAddress|input_PlaceName|input_AddressNumber|   input_Street|input_Unit|input_UnitType|input_State18|    input_City19|input_PostalCode|input_PostalCodeExt|input_CountryName|input_Country|input_PrecisionCode|input_MatchType|input_LocationCode|input_MatchCode| input_PBKEY|input_error|\n",
      "+---------+--------------------+--------------+----------------+------------+--------------+-----------+-----------+-----------+---------+--------------------+--------------------+---------------------+---------------+-------------------+---------------+----------+--------------+-------------+----------------+----------------+-------------------+-----------------+-------------+-------------------+---------------+------------------+---------------+------------+-----------+\n",
      "|        0|    5065 Tennyson St|          null|          Denver|          CO|         80212|        100|        ggs|-105.044203|39.788568|5065 TENNYSON ST,...|    5065 TENNYSON ST| DENVER, CO  80212...|           null|               5065|       TENNYSON|      null|          null|     Colorado|          DENVER|           80212|               2929|    United States|          USA|         S8HPNTSCZA|        ADDRESS|              AP05|           S800|P00003PYZUT9|       null|\n",
      "|        1|  26828 314th Ave SE|          null|      Ravensdale|          WA|         98051|        100|        ggs|-121.924486|47.360883|26828 314TH AVE S...|  26828 314TH AVE SE| RAVENSDALE, WA  9...|           null|              26828|          314TH|      null|          null|   Washington|      RAVENSDALE|           98051|               9647|    United States|          USA|         S8HPNTSCZA|        ADDRESS|              AP05|           S800|P0000OE6MN2H|       null|\n",
      "|        2| 832834 Elizabeth St|          null|   San Francisco|          CA|         94114|         50|        ggs|  -122.4363|  37.7589|ST, SAN FRANCISCO...|                null| SAN FRANCISCO, CA...|           null|               null|           null|      null|          null|   California|   SAN FRANCISCO|           94114|               null|    United States|          USA|                 Z1|          ADMIN|              ZC5X|           E022|        null|       null|\n",
      "|        3|    647 Guenevere Dr|          null|      Pittsburgh|          PA|         15237|        100|        ggs| -80.024666|40.572883|647 GUENEVERE DR,...|    647 GUENEVERE DR| PITTSBURGH, PA  1...|           null|                647|      GUENEVERE|      null|          null| Pennsylvania|      PITTSBURGH|           15237|               5426|    United States|          USA|         S8HPNTSCZA|        ADDRESS|              AP02|           S800|P0000JCO54I8|       null|\n",
      "|        4|  156 Wallington Ave|          null|      Wallington|          NJ|          7057|        100|        ggs| -74.114029|40.854091|156 WALLINGTON AV...|  156 WALLINGTON AVE| WALLINGTON, NJ  0...|           null|                156|     WALLINGTON|      null|          null|   New Jersey|      WALLINGTON|           07057|               1120|    United States|          USA|         S8HPNTSC-A|        ADDRESS|              AP05|           S800|P0000FNYJ1M7|       null|\n",
      "|        5|  3647 Twin Dish Way|          null|   New Braunfels|          TX|         78130|        100|        ggs| -98.067173|29.766789|3647 TWIN DISH WA...|  3647 TWIN DISH WAY| NEW BRAUNFELS, TX...|           null|               3647|      TWIN DISH|      null|          null|        Texas|   NEW BRAUNFELS|           78130|               0215|    United States|          USA|         S8HPNTSCZA|        ADDRESS|              AP02|           S800|P0000M4FBWWI|       null|\n",
      "|        6|      1402 W Jeff Dr|          null|           Pharr|          TX|         78577|        100|        ggs| -98.213062|26.129402|1402 W JEFF DR, P...|      1402 W JEFF DR| PHARR, TX  78577-...|           null|               1402|           JEFF|      null|          null|        Texas|           PHARR|           78577|               9659|    United States|          USA|         S8HPNTSCZA|        ADDRESS|              AP05|           S800|P0000M3MUE34|       null|\n",
      "|        7|7950 Antelope Val...|          null|Colorado Springs|          CO|         80920|         98|        ggs|-104.743865|38.947347|7950 ANTELOPE VAL...|7950 ANTELOPE VAL...| COLORADO SPRINGS,...|           null|               7950|ANTELOPE VALLEY|      null|          null|     Colorado|COLORADO SPRINGS|           80920|               4724|    United States|          USA|         S8HPNTSCZA|        ADDRESS|              AP05|           S801|P00003PZNF4X|       null|\n",
      "|        8|     2704 Corinne Dr|          null|         Marrero|          LA|         70072|        100|        ggs| -90.108143|29.833354|2704 CORINNE DR, ...|     2704 CORINNE DR| MARRERO, LA  7007...|           null|               2704|        CORINNE|      null|          null|    Louisiana|         MARRERO|           70072|               6518|    United States|          USA|         S8HPNTSCZA|        ADDRESS|              AP05|           S800|P0000A5HW868|       null|\n",
      "|        9|    3604 SW 325th St|          null|     Federal Way|          WA|         98023|        100|        ggs|-122.378135|47.312254|3604 SW 325TH ST,...|    3604 SW 325TH ST| FEDERAL WAY, WA  ...|           null|               3604|          325TH|      null|          null|   Washington|     FEDERAL WAY|           98023|               2610|    United States|          USA|         S8HPNTSCZA|        ADDRESS|              AP05|           S800|P0000OE6HIIZ|       null|\n",
      "|       10|46598 Drysdale Te...|          null|        Sterling|          VA|         20165|        100|        ggs| -77.387428|39.049974|46598 DRYSDALE TE...|46598 DRYSDALE TE...| STERLING, VA  201...|           null|              46598|       DRYSDALE|       303|          UNIT|     Virginia|        STERLING|           20165|               4341|    United States|          USA|         S8HPNTSCZA|        ADDRESS|              AP05|           S800|P0000NH3QW86|       null|\n",
      "|       11|8271 NE Hurlingen Rd|          null|    Saint Joseph|          MO|         64507|        100|        ggs|  -94.71593|39.780972|8271 NE HURLINGEN...|8271 NE HURLINGEN RD| SAINT JOSEPH, MO ...|           null|               8271|      HURLINGEN|      null|          null|     Missouri|    SAINT JOSEPH|           64507|               8788|    United States|          USA|         S8HPNTSCZA|        ADDRESS|              AP05|           S800|P0000DDAISDK|       null|\n",
      "|       12|         177 Main St|          null|        Freeport|          ME|          4032|        100|        ggs| -70.100887|43.861621|177 MAIN ST, FREE...|         177 MAIN ST| FREEPORT, ME  040...|           null|                177|           MAIN|      null|          null|        Maine|        FREEPORT|           04032|               1421|    United States|          USA|         S8HPNTSC-A|        ADDRESS|              AP05|           S800|P0000AM16H9D|       null|\n",
      "|       13|5740 Sunken River...|          null|       Las Vegas|          NV|         89118|        100|        ggs|-115.220079|36.091363|5740 SUNKEN RIVER...|5740 SUNKEN RIVER...| LAS VEGAS, NV  89...|           null|               5740|   SUNKEN RIVER|      null|          null|       Nevada|       LAS VEGAS|           89118|               2061|    United States|          USA|         S8HPNTSCZA|        ADDRESS|              AP05|           S800|P0000EQVSUQZ|       null|\n",
      "|       14|       5801 Morse Dr|          null|         Oakland|          CA|         94605|        100|        ggs| -122.18978|37.773349|5801 MORSE DR, OA...|       5801 MORSE DR| OAKLAND, CA  9460...|           null|               5801|          MORSE|      null|          null|   California|         OAKLAND|           94605|               1139|    United States|          USA|         S8HPNTSCZA|        ADDRESS|              AP05|           S800|P00002T2FSLP|       null|\n",
      "|       15|          587 3rd St|          null|        Brooklyn|          NY|         11215|        100|        ggs| -73.975421|40.669271|587 3RD ST, BROOK...|          587 3RD ST| BROOKLYN, NY  112...|           null|                587|            3RD|      null|          null|     New York|        BROOKLYN|           11215|               3002|    United States|          USA|         S8HPNTSCZA|        ADDRESS|              AP05|           S800|P0000GL2MQ3S|       null|\n",
      "|       16|11 S Charlton Sho...|          null|        Charlton|          MA|          1507|        100|        ggs| -71.934457|42.097656|11 S CHARLTON SHO...|11 S CHARLTON SHO...| CHARLTON, MA  015...|           null|                 11| CHARLTON SHORE|      null|          null|Massachusetts|        CHARLTON|           01507|               6668|    United States|          USA|         S8HPNTSC-A|        ADDRESS|              AP05|           S800|P0000BJ46CSF|       null|\n",
      "|       17|    8120 Wakazoo Way|          null|      Watervliet|          MI|         49098|        100|        ggs| -86.261654|42.201239|8120 WAKAZOO WAY,...|    8120 WAKAZOO WAY| WATERVLIET, MI  4...|           null|               8120|        WAKAZOO|      null|          null|     Michigan|      WATERVLIET|           49098|               9738|    United States|          USA|         S8HPNTSCZA|        ADDRESS|              AP02|           S800|P0000BZPA99Z|       null|\n",
      "|       18|7001 S Gator Cree...|          null|        Sarasota|          FL|         34241|        100|        ggs| -82.394762|27.258946|7001 S GATOR CREE...|7001 S GATOR CREE...| SARASOTA, FL  342...|           null|               7001|    GATOR CREEK|      null|          null|      Florida|        SARASOTA|           34241|               9748|    United States|          USA|         S8HPNTSCZA|        ADDRESS|              AP05|           S800|P00005K8Y03V|       null|\n",
      "|       19| 65 Pleasant Cove Dr|          null|    New Vineyard|          ME|          4956|        100|        ggs|   -70.1411|  44.8065|65 PLEASANT COVE ...| 65 PLEASANT COVE DR| NEW VINEYARD, ME ...|           null|                 65|  PLEASANT COVE|      null|          null|        Maine|    NEW VINEYARD|           04956|               3541|    United States|          USA|         S2HPNTSC-A|        ADDRESS|              ZT7J|           S800|        null|       null|\n",
      "+---------+--------------------+--------------+----------------+------------+--------------+-----------+-----------+-----------+---------+--------------------+--------------------+---------------------+---------------+-------------------+---------------+----------+--------------+-------------+----------------+----------------+-------------------+-----------------+-------------+-------------------+---------------+------------------+---------------+------------+-----------+\n",
      "only showing top 20 rows"
     ]
    }
   ],
   "source": [
    "inputDF = spark.read.option(\"header\", \"true\").option(\"delimiter\", \",\").format(\"csv\").load(InputFile_Loaction)\n",
    "old_col=inputDF.schema.names\n",
    "running_list=[]\n",
    "new_col=[]\n",
    "prefix='input'\n",
    "for column in old_col:\n",
    "    if(column not in running_list):\n",
    "        new_col.append(prefix + \"_\" + column)\n",
    "    else:\n",
    "        new_col.append(column)\n",
    "        running_list.append(column)\n",
    "\n",
    "inputDF=inputDF.toDF(*new_col)\n",
    "inputDF.show()"
   ]
  },
  {
   "cell_type": "markdown",
   "metadata": {},
   "source": [
    "<h1>Scala Python UDF</h1>"
   ]
  },
  {
   "cell_type": "code",
   "execution_count": 11,
   "metadata": {
    "jupyter": {
     "source_hidden": true
    }
   },
   "outputs": [
    {
     "data": {
      "application/vnd.jupyter.widget-view+json": {
       "model_id": "",
       "version_major": 2,
       "version_minor": 0
      },
      "text/plain": [
       "FloatProgress(value=0.0, bar_style='info', description='Progress:', layout=Layout(height='25px', width='50%'),…"
      ]
     },
     "metadata": {},
     "output_type": "display_data"
    }
   ],
   "source": [
    "downloadLocationLocal = \"/mnt/precisely/\"\n",
    "inputFields = {'addressLines[0]' : '1,2', 'city' : '3', 'admin1' : '4', 'postalCode' : '5'}\n",
    "finalDF = DataFrame(sqlContext._jvm.com.precisely.Addressing.addressingDF(inputDF._jdf, spark.sparkContext._jsc,  \"geocode\", resourcesLocationLocal, downloadLocationLocal, dataLocationLocal, outputFields, inputFields), sqlContext)"
   ]
  },
  {
   "cell_type": "markdown",
   "metadata": {},
   "source": [
    "<h1>Output</h1>"
   ]
  },
  {
   "cell_type": "code",
   "execution_count": 12,
   "metadata": {
    "jupyter": {
     "source_hidden": true
    }
   },
   "outputs": [
    {
     "data": {
      "application/vnd.jupyter.widget-view+json": {
       "model_id": "",
       "version_major": 2,
       "version_minor": 0
      },
      "text/plain": [
       "FloatProgress(value=0.0, bar_style='info', description='Progress:', layout=Layout(height='25px', width='50%'),…"
      ]
     },
     "metadata": {},
     "output_type": "display_data"
    },
    {
     "name": "stdout",
     "output_type": "stream",
     "text": [
      "+---------+--------------------+--------------+----------------+------------+--------------+-----------+-----------+-----------+---------+--------------------+--------------------+---------------------+---------------+-------------------+---------------+----------+--------------+-------------+----------------+----------------+-------------------+-----------------+-------------+-------------------+---------------+------------------+---------------+------------+-----------+-----+-----+-----------+---------+--------------------+--------------------+--------------------+---------+-------------+---------------+----+--------+-------------+----------------+----------+-------------+-------------+-------+-------------+---------+------------+---------+------------+----------+-----------+-----+\n",
      "|input__c0|      input_address1|input_address2|     input_city3|input_state4|input_postcode|input_score|input_label|  input_LON|input_LAT|   input_FullAddress| input_StreetAddress|input_LocationAddress|input_PlaceName|input_AddressNumber|   input_Street|input_Unit|input_UnitType|input_State18|    input_City19|input_PostalCode|input_PostalCodeExt|input_CountryName|input_Country|input_PrecisionCode|input_MatchType|input_LocationCode|input_MatchCode| input_PBKEY|input_error|score|label|        LON|      LAT|         FullAddress|       StreetAddress|     LocationAddress|PlaceName|AddressNumber|         Street|Unit|UnitType|        State|            City|PostalCode|PostalCodeExt|  CountryName|Country|PrecisionCode|MatchType|LocationCode|MatchCode|       PBKEY|DpvConfirm|GeocodePass|error|\n",
      "+---------+--------------------+--------------+----------------+------------+--------------+-----------+-----------+-----------+---------+--------------------+--------------------+---------------------+---------------+-------------------+---------------+----------+--------------+-------------+----------------+----------------+-------------------+-----------------+-------------+-------------------+---------------+------------------+---------------+------------+-----------+-----+-----+-----------+---------+--------------------+--------------------+--------------------+---------+-------------+---------------+----+--------+-------------+----------------+----------+-------------+-------------+-------+-------------+---------+------------+---------+------------+----------+-----------+-----+\n",
      "|        0|    5065 Tennyson St|          null|          Denver|          CO|         80212|        100|        ggs|-105.044203|39.788568|5065 TENNYSON ST,...|    5065 TENNYSON ST| DENVER, CO  80212...|           null|               5065|       TENNYSON|      null|          null|     Colorado|          DENVER|           80212|               2929|    United States|          USA|         S8HPNTSCZA|        ADDRESS|              AP05|           S800|P00003PYZUT9|       null|  100|  ggs|-105.044203|39.788568|5065 TENNYSON ST,...|    5065 TENNYSON ST|DENVER, CO  80212...|         |         5065|       TENNYSON|null|    null|     Colorado|          DENVER|     80212|         2929|United States|    USA|   S8HPNTSCZA|  ADDRESS|        AP05|     S800|P00003PYZUT9|      null|       null| null|\n",
      "|        1|  26828 314th Ave SE|          null|      Ravensdale|          WA|         98051|        100|        ggs|-121.924486|47.360883|26828 314TH AVE S...|  26828 314TH AVE SE| RAVENSDALE, WA  9...|           null|              26828|          314TH|      null|          null|   Washington|      RAVENSDALE|           98051|               9647|    United States|          USA|         S8HPNTSCZA|        ADDRESS|              AP05|           S800|P0000OE6MN2H|       null|  100|  ggs|-121.924486|47.360883|26828 314TH AVE S...|  26828 314TH AVE SE|RAVENSDALE, WA  9...|         |        26828|          314TH|null|    null|   Washington|      RAVENSDALE|     98051|         9647|United States|    USA|   S8HPNTSCZA|  ADDRESS|        AP05|     S800|P0000OE6MN2H|      null|       null| null|\n",
      "|        2| 832834 Elizabeth St|          null|   San Francisco|          CA|         94114|         50|        ggs|  -122.4363|  37.7589|ST, SAN FRANCISCO...|                null| SAN FRANCISCO, CA...|           null|               null|           null|      null|          null|   California|   SAN FRANCISCO|           94114|               null|    United States|          USA|                 Z1|          ADMIN|              ZC5X|           E022|        null|       null|   50|  ggs|  -122.4366|   37.759|ST, SAN FRANCISCO...|                null|SAN FRANCISCO, CA...|         |             |               |null|    null|   California|   SAN FRANCISCO|     94114|             |United States|    USA|           Z1|    ADMIN|        ZC5X|     E022|        null|      null|       null| null|\n",
      "|        3|    647 Guenevere Dr|          null|      Pittsburgh|          PA|         15237|        100|        ggs| -80.024666|40.572883|647 GUENEVERE DR,...|    647 GUENEVERE DR| PITTSBURGH, PA  1...|           null|                647|      GUENEVERE|      null|          null| Pennsylvania|      PITTSBURGH|           15237|               5426|    United States|          USA|         S8HPNTSCZA|        ADDRESS|              AP02|           S800|P0000JCO54I8|       null|  100|  ggs| -80.024666|40.572883|647 GUENEVERE DR,...|    647 GUENEVERE DR|PITTSBURGH, PA  1...|         |          647|      GUENEVERE|null|    null| Pennsylvania|      PITTSBURGH|     15237|         5426|United States|    USA|   S8HPNTSCZA|  ADDRESS|        AP02|     S800|P0000JCO54I8|      null|       null| null|\n",
      "|        4|  156 Wallington Ave|          null|      Wallington|          NJ|          7057|        100|        ggs| -74.114029|40.854091|156 WALLINGTON AV...|  156 WALLINGTON AVE| WALLINGTON, NJ  0...|           null|                156|     WALLINGTON|      null|          null|   New Jersey|      WALLINGTON|           07057|               1120|    United States|          USA|         S8HPNTSC-A|        ADDRESS|              AP05|           S800|P0000FNYJ1M7|       null|  100|  ggs| -74.114029|40.854091|156 WALLINGTON AV...|  156 WALLINGTON AVE|WALLINGTON, NJ  0...|         |          156|     WALLINGTON|null|    null|   New Jersey|      WALLINGTON|     07057|         1120|United States|    USA|   S8HPNTSC-A|  ADDRESS|        AP05|     S800|P0000FNYJ1M7|      null|       null| null|\n",
      "|        5|  3647 Twin Dish Way|          null|   New Braunfels|          TX|         78130|        100|        ggs| -98.067173|29.766789|3647 TWIN DISH WA...|  3647 TWIN DISH WAY| NEW BRAUNFELS, TX...|           null|               3647|      TWIN DISH|      null|          null|        Texas|   NEW BRAUNFELS|           78130|               0215|    United States|          USA|         S8HPNTSCZA|        ADDRESS|              AP02|           S800|P0000M4FBWWI|       null|  100|  ggs| -98.067173|29.766789|3647 TWIN DISH WA...|  3647 TWIN DISH WAY|NEW BRAUNFELS, TX...|         |         3647|      TWIN DISH|null|    null|        Texas|   NEW BRAUNFELS|     78130|         0215|United States|    USA|   S8HPNTSCZA|  ADDRESS|        AP02|     S800|P0000M4FBWWI|      null|       null| null|\n",
      "|        6|      1402 W Jeff Dr|          null|           Pharr|          TX|         78577|        100|        ggs| -98.213062|26.129402|1402 W JEFF DR, P...|      1402 W JEFF DR| PHARR, TX  78577-...|           null|               1402|           JEFF|      null|          null|        Texas|           PHARR|           78577|               9659|    United States|          USA|         S8HPNTSCZA|        ADDRESS|              AP05|           S800|P0000M3MUE34|       null|  100|  ggs| -98.213062|26.129402|1402 W JEFF DR, P...|      1402 W JEFF DR|PHARR, TX  78577-...|         |         1402|           JEFF|null|    null|        Texas|           PHARR|     78577|         9659|United States|    USA|   S8HPNTSCZA|  ADDRESS|        AP05|     S800|P0000M3MUE34|      null|       null| null|\n",
      "|        7|7950 Antelope Val...|          null|Colorado Springs|          CO|         80920|         98|        ggs|-104.743865|38.947347|7950 ANTELOPE VAL...|7950 ANTELOPE VAL...| COLORADO SPRINGS,...|           null|               7950|ANTELOPE VALLEY|      null|          null|     Colorado|COLORADO SPRINGS|           80920|               4724|    United States|          USA|         S8HPNTSCZA|        ADDRESS|              AP05|           S801|P00003PZNF4X|       null|   98|  ggs|-104.743865|38.947347|7950 ANTELOPE VAL...|7950 ANTELOPE VAL...|COLORADO SPRINGS,...|         |         7950|ANTELOPE VALLEY|null|    null|     Colorado|COLORADO SPRINGS|     80920|         4724|United States|    USA|   S8HPNTSCZA|  ADDRESS|        AP05|     S801|P00003PZNF4X|      null|       null| null|\n",
      "|        8|     2704 Corinne Dr|          null|         Marrero|          LA|         70072|        100|        ggs| -90.108143|29.833354|2704 CORINNE DR, ...|     2704 CORINNE DR| MARRERO, LA  7007...|           null|               2704|        CORINNE|      null|          null|    Louisiana|         MARRERO|           70072|               6518|    United States|          USA|         S8HPNTSCZA|        ADDRESS|              AP05|           S800|P0000A5HW868|       null|  100|  ggs| -90.108143|29.833354|2704 CORINNE DR, ...|     2704 CORINNE DR|MARRERO, LA  7007...|         |         2704|        CORINNE|null|    null|    Louisiana|         MARRERO|     70072|         6518|United States|    USA|   S8HPNTSCZA|  ADDRESS|        AP05|     S800|P0000A5HW868|      null|       null| null|\n",
      "|        9|    3604 SW 325th St|          null|     Federal Way|          WA|         98023|        100|        ggs|-122.378135|47.312254|3604 SW 325TH ST,...|    3604 SW 325TH ST| FEDERAL WAY, WA  ...|           null|               3604|          325TH|      null|          null|   Washington|     FEDERAL WAY|           98023|               2610|    United States|          USA|         S8HPNTSCZA|        ADDRESS|              AP05|           S800|P0000OE6HIIZ|       null|  100|  ggs|-122.378135|47.312254|3604 SW 325TH ST,...|    3604 SW 325TH ST|FEDERAL WAY, WA  ...|         |         3604|          325TH|null|    null|   Washington|     FEDERAL WAY|     98023|         2610|United States|    USA|   S8HPNTSCZA|  ADDRESS|        AP05|     S800|P0000OE6HIIZ|      null|       null| null|\n",
      "|       10|46598 Drysdale Te...|          null|        Sterling|          VA|         20165|        100|        ggs| -77.387428|39.049974|46598 DRYSDALE TE...|46598 DRYSDALE TE...| STERLING, VA  201...|           null|              46598|       DRYSDALE|       303|          UNIT|     Virginia|        STERLING|           20165|               4341|    United States|          USA|         S8HPNTSCZA|        ADDRESS|              AP05|           S800|P0000NH3QW86|       null|  100|  ggs| -77.387428|39.049974|46598 DRYSDALE TE...|46598 DRYSDALE TE...|STERLING, VA  201...|         |        46598|       DRYSDALE| 303|    UNIT|     Virginia|        STERLING|     20165|         4341|United States|    USA|   S8HPNTSCZA|  ADDRESS|        AP05|     S800|P0000NH3QW86|      null|       null| null|\n",
      "|       11|8271 NE Hurlingen Rd|          null|    Saint Joseph|          MO|         64507|        100|        ggs|  -94.71593|39.780972|8271 NE HURLINGEN...|8271 NE HURLINGEN RD| SAINT JOSEPH, MO ...|           null|               8271|      HURLINGEN|      null|          null|     Missouri|    SAINT JOSEPH|           64507|               8788|    United States|          USA|         S8HPNTSCZA|        ADDRESS|              AP05|           S800|P0000DDAISDK|       null|  100|  ggs|  -94.71593|39.780972|8271 NE HURLINGEN...|8271 NE HURLINGEN RD|SAINT JOSEPH, MO ...|         |         8271|      HURLINGEN|null|    null|     Missouri|    SAINT JOSEPH|     64507|         8788|United States|    USA|   S8HPNTSCZA|  ADDRESS|        AP05|     S800|P0000DDAISDK|      null|       null| null|\n",
      "|       12|         177 Main St|          null|        Freeport|          ME|          4032|        100|        ggs| -70.100887|43.861621|177 MAIN ST, FREE...|         177 MAIN ST| FREEPORT, ME  040...|           null|                177|           MAIN|      null|          null|        Maine|        FREEPORT|           04032|               1421|    United States|          USA|         S8HPNTSC-A|        ADDRESS|              AP05|           S800|P0000AM16H9D|       null|  100|  ggs| -70.100887|43.861621|177 MAIN ST, FREE...|         177 MAIN ST|FREEPORT, ME  040...|         |          177|           MAIN|null|    null|        Maine|        FREEPORT|     04032|         1421|United States|    USA|   S8HPNTSC-A|  ADDRESS|        AP05|     S800|P0000AM16H9D|      null|       null| null|\n",
      "|       13|5740 Sunken River...|          null|       Las Vegas|          NV|         89118|        100|        ggs|-115.220079|36.091363|5740 SUNKEN RIVER...|5740 SUNKEN RIVER...| LAS VEGAS, NV  89...|           null|               5740|   SUNKEN RIVER|      null|          null|       Nevada|       LAS VEGAS|           89118|               2061|    United States|          USA|         S8HPNTSCZA|        ADDRESS|              AP05|           S800|P0000EQVSUQZ|       null|  100|  ggs|-115.220079|36.091363|5740 SUNKEN RIVER...|5740 SUNKEN RIVER...|LAS VEGAS, NV  89...|         |         5740|   SUNKEN RIVER|null|    null|       Nevada|       LAS VEGAS|     89118|         2061|United States|    USA|   S8HPNTSCZA|  ADDRESS|        AP05|     S800|P0000EQVSUQZ|      null|       null| null|\n",
      "|       14|       5801 Morse Dr|          null|         Oakland|          CA|         94605|        100|        ggs| -122.18978|37.773349|5801 MORSE DR, OA...|       5801 MORSE DR| OAKLAND, CA  9460...|           null|               5801|          MORSE|      null|          null|   California|         OAKLAND|           94605|               1139|    United States|          USA|         S8HPNTSCZA|        ADDRESS|              AP05|           S800|P00002T2FSLP|       null|  100|  ggs| -122.18978|37.773349|5801 MORSE DR, OA...|       5801 MORSE DR|OAKLAND, CA  9460...|         |         5801|          MORSE|null|    null|   California|         OAKLAND|     94605|         1139|United States|    USA|   S8HPNTSCZA|  ADDRESS|        AP05|     S800|P00002T2FSLP|      null|       null| null|\n",
      "|       15|          587 3rd St|          null|        Brooklyn|          NY|         11215|        100|        ggs| -73.975421|40.669271|587 3RD ST, BROOK...|          587 3RD ST| BROOKLYN, NY  112...|           null|                587|            3RD|      null|          null|     New York|        BROOKLYN|           11215|               3002|    United States|          USA|         S8HPNTSCZA|        ADDRESS|              AP05|           S800|P0000GL2MQ3S|       null|  100|  ggs| -73.975421|40.669271|587 3RD ST, BROOK...|          587 3RD ST|BROOKLYN, NY  112...|         |          587|            3RD|null|    null|     New York|        BROOKLYN|     11215|         3002|United States|    USA|   S8HPNTSCZA|  ADDRESS|        AP05|     S800|P0000GL2MQ3S|      null|       null| null|\n",
      "|       16|11 S Charlton Sho...|          null|        Charlton|          MA|          1507|        100|        ggs| -71.934457|42.097656|11 S CHARLTON SHO...|11 S CHARLTON SHO...| CHARLTON, MA  015...|           null|                 11| CHARLTON SHORE|      null|          null|Massachusetts|        CHARLTON|           01507|               6668|    United States|          USA|         S8HPNTSC-A|        ADDRESS|              AP05|           S800|P0000BJ46CSF|       null|  100|  ggs| -71.934457|42.097656|11 S CHARLTON SHO...|11 S CHARLTON SHO...|CHARLTON, MA  015...|         |           11| CHARLTON SHORE|null|    null|Massachusetts|        CHARLTON|     01507|         6668|United States|    USA|   S8HPNTSC-A|  ADDRESS|        AP05|     S800|P0000BJ46CSF|      null|       null| null|\n",
      "|       17|    8120 Wakazoo Way|          null|      Watervliet|          MI|         49098|        100|        ggs| -86.261654|42.201239|8120 WAKAZOO WAY,...|    8120 WAKAZOO WAY| WATERVLIET, MI  4...|           null|               8120|        WAKAZOO|      null|          null|     Michigan|      WATERVLIET|           49098|               9738|    United States|          USA|         S8HPNTSCZA|        ADDRESS|              AP02|           S800|P0000BZPA99Z|       null|  100|  ggs| -86.261654|42.201239|8120 WAKAZOO WAY,...|    8120 WAKAZOO WAY|WATERVLIET, MI  4...|         |         8120|        WAKAZOO|null|    null|     Michigan|      WATERVLIET|     49098|         9738|United States|    USA|   S8HPNTSCZA|  ADDRESS|        AP02|     S800|P0000BZPA99Z|      null|       null| null|\n",
      "|       18|7001 S Gator Cree...|          null|        Sarasota|          FL|         34241|        100|        ggs| -82.394762|27.258946|7001 S GATOR CREE...|7001 S GATOR CREE...| SARASOTA, FL  342...|           null|               7001|    GATOR CREEK|      null|          null|      Florida|        SARASOTA|           34241|               9748|    United States|          USA|         S8HPNTSCZA|        ADDRESS|              AP05|           S800|P00005K8Y03V|       null|  100|  ggs| -82.394762|27.258946|7001 S GATOR CREE...|7001 S GATOR CREE...|SARASOTA, FL  342...|         |         7001|    GATOR CREEK|null|    null|      Florida|        SARASOTA|     34241|         9748|United States|    USA|   S8HPNTSCZA|  ADDRESS|        AP05|     S800|P00005K8Y03V|      null|       null| null|\n",
      "|       19| 65 Pleasant Cove Dr|          null|    New Vineyard|          ME|          4956|        100|        ggs|   -70.1411|  44.8065|65 PLEASANT COVE ...| 65 PLEASANT COVE DR| NEW VINEYARD, ME ...|           null|                 65|  PLEASANT COVE|      null|          null|        Maine|    NEW VINEYARD|           04956|               3541|    United States|          USA|         S2HPNTSC-A|        ADDRESS|              ZT7J|           S800|        null|       null|  100|  ggs| -70.164344|44.800526|65 PLEASANT COVE ...| 65 PLEASANT COVE DR|NEW VINEYARD, ME ...|         |           65|  PLEASANT COVE|null|    null|        Maine|    NEW VINEYARD|     04956|         3541|United States|    USA|   S5HPNTSC-A|  ADDRESS|         AS0|     S800|        null|      null|       null| null|\n",
      "+---------+--------------------+--------------+----------------+------------+--------------+-----------+-----------+-----------+---------+--------------------+--------------------+---------------------+---------------+-------------------+---------------+----------+--------------+-------------+----------------+----------------+-------------------+-----------------+-------------+-------------------+---------------+------------------+---------------+------------+-----------+-----+-----+-----------+---------+--------------------+--------------------+--------------------+---------+-------------+---------------+----+--------+-------------+----------------+----------+-------------+-------------+-------+-------------+---------+------------+---------+------------+----------+-----------+-----+\n",
      "only showing top 20 rows"
     ]
    }
   ],
   "source": [
    "finalDF.show()"
   ]
  }
 ],
 "metadata": {
  "instance_type": "ml.t3.medium",
  "kernelspec": {
   "display_name": "PySpark (SparkMagic)",
   "language": "python",
   "name": "pysparkkernel__SAGEMAKER_INTERNAL__arn:aws:sagemaker:us-east-1:081325390199:image/sagemaker-sparkmagic"
  },
  "language_info": {
   "codemirror_mode": {
    "name": "python",
    "version": 3
   },
   "file_extension": ".py",
   "mimetype": "text/x-python",
   "name": "pyspark",
   "pygments_lexer": "python3"
  }
 },
 "nbformat": 4,
 "nbformat_minor": 4
}
